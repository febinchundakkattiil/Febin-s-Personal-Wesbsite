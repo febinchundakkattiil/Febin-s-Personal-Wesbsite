{
  "nbformat": 4,
  "nbformat_minor": 0,
  "metadata": {
    "colab": {
      "provenance": [],
      "authorship_tag": "ABX9TyO+W/9ulXGoHyex4cDvfjyM",
      "include_colab_link": true
    },
    "kernelspec": {
      "name": "python3",
      "display_name": "Python 3"
    },
    "language_info": {
      "name": "python"
    }
  },
  "cells": [
    {
      "cell_type": "markdown",
      "metadata": {
        "id": "view-in-github",
        "colab_type": "text"
      },
      "source": [
        "<a href=\"https://colab.research.google.com/github/febinchundakkattiil/Febin-s-Personal-Wesbsite/blob/master/Array_attr.ipynb\" target=\"_parent\"><img src=\"https://colab.research.google.com/assets/colab-badge.svg\" alt=\"Open In Colab\"/></a>"
      ]
    },
    {
      "cell_type": "code",
      "execution_count": null,
      "metadata": {
        "colab": {
          "base_uri": "https://localhost:8080/"
        },
        "id": "2-3jopc8wUwG",
        "outputId": "2377c029-0643-4c2f-cfd2-9a8084f33845"
      },
      "outputs": [
        {
          "output_type": "stream",
          "name": "stdout",
          "text": [
            "[1 2 3 3 4]\n"
          ]
        },
        {
          "output_type": "execute_result",
          "data": {
            "text/plain": [
              "numpy.ndarray"
            ]
          },
          "metadata": {},
          "execution_count": 33
        }
      ],
      "source": [
        "import numpy as np\n",
        "arr = np.array([1,2,3,3,4])\n",
        "print(arr)\n",
        "type(arr)"
      ]
    },
    {
      "cell_type": "code",
      "source": [
        "ar=np.array('hello')\n",
        "print(ar)"
      ],
      "metadata": {
        "colab": {
          "base_uri": "https://localhost:8080/"
        },
        "id": "9uOvx4bWILB_",
        "outputId": "e6072f6e-5cdf-43a3-c356-f0dc672322dc"
      },
      "execution_count": null,
      "outputs": [
        {
          "output_type": "stream",
          "name": "stdout",
          "text": [
            "hello\n"
          ]
        }
      ]
    },
    {
      "cell_type": "markdown",
      "source": [
        "\n",
        "---*this the priority of data types\n",
        "\n",
        "bool -> int -> float -> complex -> str ->set -> dict"
      ],
      "metadata": {
        "id": "vg0d_OnzjTVr"
      }
    },
    {
      "cell_type": "code",
      "source": [
        "arr = np.array ([True ,False,4,5,'11',5,3.4,])\n",
        "arr"
      ],
      "metadata": {
        "colab": {
          "base_uri": "https://localhost:8080/"
        },
        "id": "g_W43cVGjuT8",
        "outputId": "f94d9a5e-0977-4a40-c117-c32c102a9b93"
      },
      "execution_count": null,
      "outputs": [
        {
          "output_type": "execute_result",
          "data": {
            "text/plain": [
              "array(['True', 'False', '4', '5', '11', '5', '3.4'], dtype='<U32')"
            ]
          },
          "metadata": {},
          "execution_count": 35
        }
      ]
    },
    {
      "cell_type": "code",
      "source": [
        "ar2 = np.array([[1,2,3,4],\n",
        "               [5,4,3,2]])\n",
        "print(type(ar2))\n",
        "ar2.ndim\n",
        "ar2.dtype\n",
        "ar2.shape"
      ],
      "metadata": {
        "colab": {
          "base_uri": "https://localhost:8080/"
        },
        "id": "vc9bWODgp02H",
        "outputId": "257564f4-7acf-4842-a537-fecf7d56b280"
      },
      "execution_count": null,
      "outputs": [
        {
          "output_type": "stream",
          "name": "stdout",
          "text": [
            "<class 'numpy.ndarray'>\n"
          ]
        },
        {
          "output_type": "execute_result",
          "data": {
            "text/plain": [
              "(2, 4)"
            ]
          },
          "metadata": {},
          "execution_count": 36
        }
      ]
    },
    {
      "cell_type": "code",
      "source": [
        "ar3 = np.array([[[1,2,3,],[3,2,1]],\n",
        "                [[1,2,3],[1,2,3]]])\n",
        "ar3\n",
        "ar3.ndim\n",
        "ar3.dtype\n",
        "ar3.shape\n",
        "ar3.reshape"
      ],
      "metadata": {
        "colab": {
          "base_uri": "https://localhost:8080/"
        },
        "id": "ejtT6w3-sPvm",
        "outputId": "0e564030-964c-4edd-aaf8-f3e5103d2f9b"
      },
      "execution_count": null,
      "outputs": [
        {
          "output_type": "execute_result",
          "data": {
            "text/plain": [
              "<function ndarray.reshape>"
            ]
          },
          "metadata": {},
          "execution_count": 37
        }
      ]
    }
  ]
}